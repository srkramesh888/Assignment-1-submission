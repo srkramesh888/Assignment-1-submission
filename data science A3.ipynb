{
 "cells": [
  {
   "cell_type": "markdown",
   "metadata": {},
   "source": [
    "## Question-1"
   ]
  },
  {
   "cell_type": "code",
   "execution_count": 1,
   "metadata": {},
   "outputs": [],
   "source": [
    "import numpy as np"
   ]
  },
  {
   "cell_type": "code",
   "execution_count": 2,
   "metadata": {},
   "outputs": [
    {
     "name": "stdout",
     "output_type": "stream",
     "text": [
      "[ 2  5  8 11 14 17 20 23 26 29 32 35 38 41 44 47]\n"
     ]
    }
   ],
   "source": [
    "arr=np.arange(2,50,3)\n",
    "print(arr)"
   ]
  },
  {
   "cell_type": "markdown",
   "metadata": {},
   "source": [
    "## Question-2"
   ]
  },
  {
   "cell_type": "code",
   "execution_count": 3,
   "metadata": {},
   "outputs": [
    {
     "name": "stdout",
     "output_type": "stream",
     "text": [
      "5\n",
      "6\n",
      "3\n",
      "6\n",
      "2\n",
      "[5, 6, 3, 6, 2]\n",
      "6\n",
      "7\n",
      "3\n",
      "5\n",
      "1\n",
      "[6, 7, 3, 5, 1]\n",
      "[[5 6 3 6 2]\n",
      " [6 7 3 5 1]]\n",
      "[5 6 3 6 2 6 7 3 5 1]\n",
      "[[2 3 5 6 6]\n",
      " [1 3 5 6 7]]\n",
      "[1 2 3 3 5 5 6 6 6 7]\n"
     ]
    }
   ],
   "source": [
    "listA = []\n",
    "n = 5\n",
    "for i in range(0, n):\n",
    "    elm = int(input())\n",
    "    listA.append(elm)\n",
    "print(listA)\n",
    "listB = []\n",
    "m = 5\n",
    "for i in range(0, n):\n",
    "    elm = int(input())\n",
    "    listB.append(elm)\n",
    "print(listB)\n",
    "arr=np.array([listA,listB])\n",
    "arr1=np.concatenate((listA,listB))\n",
    "print(arr)\n",
    "print(arr1)\n",
    "print(np.sort(arr))\n",
    "print(np.sort(arr1))\n"
   ]
  },
  {
   "cell_type": "markdown",
   "metadata": {},
   "source": [
    "## Question-3"
   ]
  },
  {
   "cell_type": "code",
   "execution_count": 9,
   "metadata": {},
   "outputs": [
    {
     "name": "stdout",
     "output_type": "stream",
     "text": [
      "[[ 0  1  2  3]\n",
      " [ 4  5  6  7]\n",
      " [ 8  9 10 11]]\n",
      "(3, 4)\n",
      "12\n"
     ]
    }
   ],
   "source": [
    "arr=np.arange(12).reshape(3,4)\n",
    "print(arr)\n",
    "print(arr.shape)\n",
    "print(arr.size)"
   ]
  },
  {
   "cell_type": "markdown",
   "metadata": {},
   "source": [
    "## Question-4"
   ]
  },
  {
   "cell_type": "code",
   "execution_count": 12,
   "metadata": {},
   "outputs": [
    {
     "name": "stdout",
     "output_type": "stream",
     "text": [
      "[[[10 40]]\n",
      "\n",
      " [[20 50]]\n",
      "\n",
      " [[30 60]]]\n",
      "(1, 3, 1, 2)\n"
     ]
    }
   ],
   "source": [
    "import numpy as np\n",
    "a = np.array([[10],[20],[30]])\n",
    "b = np.array([[40],[50],[60]])\n",
    "c = np.dstack((a, b))\n",
    "print(c)\n",
    "print(c[np.newaxis, :, :].shape)"
   ]
  },
  {
   "cell_type": "markdown",
   "metadata": {},
   "source": [
    "## Question-5"
   ]
  },
  {
   "cell_type": "code",
   "execution_count": 15,
   "metadata": {},
   "outputs": [
    {
     "name": "stdout",
     "output_type": "stream",
     "text": [
      "[[ 0  1  2]\n",
      " [ 3  4  5]\n",
      " [ 6  7  8]\n",
      " [10 11 12]\n",
      " [13 14 15]\n",
      " [16 17 18]]\n",
      "[[ 0  1  2 10 11 12]\n",
      " [ 3  4  5 13 14 15]\n",
      " [ 6  7  8 16 17 18]]\n"
     ]
    }
   ],
   "source": [
    "arr=np.arange(9).reshape(3,3)\n",
    "arr1=np.arange(10,19).reshape(3,3)\n",
    "c=np.vstack((arr,arr1))\n",
    "d=np.hstack((arr,arr1))\n",
    "print(c)\n",
    "print(d)"
   ]
  },
  {
   "cell_type": "markdown",
   "metadata": {},
   "source": [
    "## Question-6"
   ]
  },
  {
   "cell_type": "code",
   "execution_count": 20,
   "metadata": {},
   "outputs": [
    {
     "name": "stdout",
     "output_type": "stream",
     "text": [
      "(array([ 5,  8,  9, 10, 20]), array([1, 2, 1, 2, 2], dtype=int64))\n"
     ]
    }
   ],
   "source": [
    "import numpy as np \n",
    "  \n",
    "a = np.array([10, 20, 5, \n",
    "              10, 8, 20, \n",
    "               8, 9]) \n",
    "unique= np.unique(a,return_counts = True) \n",
    "print(unique) \n",
    "  "
   ]
  }
 ],
 "metadata": {
  "kernelspec": {
   "display_name": "Python 3",
   "language": "python",
   "name": "python3"
  },
  "language_info": {
   "codemirror_mode": {
    "name": "ipython",
    "version": 3
   },
   "file_extension": ".py",
   "mimetype": "text/x-python",
   "name": "python",
   "nbconvert_exporter": "python",
   "pygments_lexer": "ipython3",
   "version": "3.8.3"
  }
 },
 "nbformat": 4,
 "nbformat_minor": 4
}
